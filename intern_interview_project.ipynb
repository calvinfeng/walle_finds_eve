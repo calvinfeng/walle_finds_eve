{
 "cells": [
  {
   "cell_type": "markdown",
   "metadata": {},
   "source": [
    "# Path Planner\n",
    "\n",
    "![Wall-E needs your help](wall-e.png)\n",
    "\n",
    "He is trying to find his way to Eve. He knows his surrounding map environment and all the obstacles on the map. He also knows the Eve's coordinates on the map. However, he doesn't have an algorithm that will tell him the efficient path to reach Eve.\n",
    "\n",
    "\n",
    "# Objective\n",
    "\n",
    "Your mission is to build a web server for Wall-E. He will make HTTP requests to your server to obtain an efficient route to reach Eve. The following is the set of endpoints your server needs to support. For the sake of simplicity, endpoints are not strictly RESTful. There is only one map on the server and it should be stored in memory."
   ]
  },
  {
   "cell_type": "markdown",
   "metadata": {},
   "source": [
    "## Create Map\n",
    "\n",
    "Request to instantiate a map on the server. We can imagine that a map is essentially a 2D Cartesian plane\n",
    "\n",
    "- Path: /api/maps\n",
    "- Method: **POST**\n",
    "- Request Data\n",
    "    - `row`: integer\n",
    "    - `col`: integer\n",
    "- Response Data\n",
    "    - `http_status`: integer\n",
    "    - `row`: integer\n",
    "    - `col`: integer"
   ]
  },
  {
   "cell_type": "code",
   "execution_count": 1,
   "metadata": {},
   "outputs": [
    {
     "name": "stdout",
     "output_type": "stream",
     "text": [
      "201 Created {'row': 5, 'col': 5}\n"
     ]
    }
   ],
   "source": [
    "import requests\n",
    "\n",
    "r = requests.post(\"http://localhost:3000/api/maps/\", json={'row': 5, 'col': 5})\n",
    "print(r.status_code, r.reason, r.json())"
   ]
  },
  {
   "cell_type": "markdown",
   "metadata": {},
   "source": [
    "## Create Start\n",
    "\n",
    "Request to set a start position on the map, i.e. where Wall-E currently is.\n",
    "\n",
    "- Path: /api/paths/start\n",
    "- Method: **POST**\n",
    "- Request Data\n",
    "    - `i`: integer\n",
    "    - `j`: integer\n",
    "- Response Data\n",
    "    - `http_status`: integer\n",
    "    - `i`: integer\n",
    "    - `j`: integer\n",
    "    \n",
    "## Create Goal\n",
    "\n",
    "Request to set a goal position on the map, i.e. where Eve currently is.\n",
    "\n",
    "- Path: /api/paths/goal\n",
    "- Method: **POST**\n",
    "- Request Data\n",
    "    - `i`: integer\n",
    "    - `j`: integer\n",
    "- Response Data\n",
    "    - `http_status`: integer\n",
    "    - `i`: integer\n",
    "    - `j`: integer"
   ]
  },
  {
   "cell_type": "code",
   "execution_count": 2,
   "metadata": {},
   "outputs": [
    {
     "name": "stdout",
     "output_type": "stream",
     "text": [
      "201 Created {'i': 0, 'j': 0}\n",
      "201 Created {'i': 4, 'j': 4}\n"
     ]
    }
   ],
   "source": [
    "import requests\n",
    "\n",
    "r = requests.post(\"http://localhost:3000/api/paths/start\", json={'i': 0, 'j': 0})\n",
    "print(r.status_code, r.reason, r.json())\n",
    "\n",
    "r = requests.post(\"http://localhost:3000/api/paths/goal\", json={'i': 4, 'j': 4})\n",
    "print(r.status_code, r.reason, r.json())"
   ]
  },
  {
   "cell_type": "markdown",
   "metadata": {},
   "source": [
    "## Create Heuristic Cost\n",
    "\n",
    "Request to a list of cost values on the map, i.e. where the obstacles are.\n",
    "\n",
    "- Path: /api/costs\n",
    "- Method: **POST**\n",
    "- Request Data\n",
    "    - `costs`: `[]{ i: integer, j: integer, value: float }`\n",
    "- Response Data\n",
    "    - `http_status`: integer\n",
    "    - `costs`: `[]{ i: integer, j: integer, value: float }`"
   ]
  },
  {
   "cell_type": "code",
   "execution_count": 3,
   "metadata": {},
   "outputs": [
    {
     "name": "stdout",
     "output_type": "stream",
     "text": [
      "201 Created {'costs': [{'i': 0, 'j': 1, 'value': 10}, {'i': 1, 'j': 1, 'value': 10}, {'i': 3, 'j': 0, 'value': 10}, {'i': 3, 'j': 1, 'value': 10}, {'i': 1, 'j': 3, 'value': 10}, {'i': 2, 'j': 3, 'value': 10}, {'i': 3, 'j': 3, 'value': 10}]}\n"
     ]
    }
   ],
   "source": [
    "import requests\n",
    "\n",
    "r = requests.post(\"http://localhost:3000/api/costs\", json={\n",
    "    'costs': [\n",
    "        {'i': 0, 'j': 1, 'value': 10},\n",
    "        {'i': 1, 'j': 1, 'value': 10},\n",
    "        {'i': 3, 'j': 0, 'value': 10},\n",
    "        {'i': 3, 'j': 1, 'value': 10},\n",
    "        {'i': 1, 'j': 3, 'value': 10},\n",
    "        {'i': 2, 'j': 3, 'value': 10},\n",
    "        {'i': 3, 'j': 3, 'value': 10},\n",
    "    ]\n",
    "})\n",
    "print(r.status_code, r.reason, r.json())"
   ]
  },
  {
   "cell_type": "markdown",
   "metadata": {},
   "source": [
    "## Find Path\n",
    "\n",
    "Request to find the optimal path to reach goal (Eve).\n",
    "\n",
    "- Path: /api/paths\n",
    "- Method: **GET**\n",
    "- Request Data\n",
    "    - none\n",
    "- Response Data\n",
    "    - `http_status`: integer\n",
    "    - `steps`: integer\n",
    "    - `path`: `[]{ i: integer, j: integer }`"
   ]
  },
  {
   "cell_type": "code",
   "execution_count": 4,
   "metadata": {},
   "outputs": [
    {
     "name": "stdout",
     "output_type": "stream",
     "text": [
      "200 OK {'steps': 9, 'path': [{'i': 4, 'j': 4}, {'i': 4, 'j': 3}, {'i': 4, 'j': 2}, {'i': 3, 'j': 2}, {'i': 2, 'j': 2}, {'i': 2, 'j': 1}, {'i': 2, 'j': 0}, {'i': 1, 'j': 0}, {'i': 0, 'j': 0}]}\n"
     ]
    }
   ],
   "source": [
    "import requests\n",
    "\n",
    "r = requests.get(\"http://localhost:3000/api/paths\")\n",
    "print(r.status_code, r.reason, r.json())"
   ]
  },
  {
   "cell_type": "markdown",
   "metadata": {},
   "source": [
    "# Comments\n",
    "\n",
    "![Wall-E and Eve](wall-e-and-eve.jpg)\n",
    "\n",
    "## Requirements\n",
    "\n",
    "At Fetch Robotics, we use Go, Python and C++ for our backend services. However, they are not required for this project. We are language agnostic. What we want to see is how you structure your code and how you approach the problem. Here's a list of recommended languages and frameworks to speed up your development time.\n",
    "\n",
    "- Express with Node.js\n",
    "- Flask with Python 2 or 3\n",
    "- Golang\n",
    "- Sinatra (or Rails) with Ruby\n",
    "- Spring with Java\n",
    "\n",
    "## Bonus\n",
    "\n",
    "If you find this project is too easy, we got some bonus points for you.\n",
    "\n",
    "- Handle error gracefully\n",
    "- Write unit tests for your algorithms\n",
    "- Visualize the path with a frontend application\n",
    "\n",
    "## Submission\n",
    "\n",
    "Please upload your code to GitHub or zip it and email it to cfeng@fetchrobotics.com."
   ]
  }
 ],
 "metadata": {
  "kernelspec": {
   "display_name": "Python 3",
   "language": "python",
   "name": "python3"
  },
  "language_info": {
   "codemirror_mode": {
    "name": "ipython",
    "version": 3
   },
   "file_extension": ".py",
   "mimetype": "text/x-python",
   "name": "python",
   "nbconvert_exporter": "python",
   "pygments_lexer": "ipython3",
   "version": "3.6.7"
  }
 },
 "nbformat": 4,
 "nbformat_minor": 2
}
